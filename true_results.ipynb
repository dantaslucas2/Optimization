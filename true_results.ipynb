{
 "cells": [
  {
   "cell_type": "code",
   "execution_count": 18,
   "metadata": {},
   "outputs": [
    {
     "name": "stdout",
     "output_type": "stream",
     "text": [
      "Iteração: 1\n",
      "Ponto atual: [-1.49011612e-08 -1.49011612e-08 -7.45058060e-09  0.00000000e+00\n",
      "  1.27880078e+00]\n",
      "Valor da função: -0.9252143173594071\n",
      "\n",
      "Iteração: 2\n",
      "Ponto atual: [-5.93767900e-09 -5.93767900e-09 -7.45058060e-09  0.00000000e+00\n",
      "  9.68471337e-01]\n",
      "Valor da função: -0.9990064373308722\n",
      "\n",
      "Iteração: 3\n",
      "Ponto atual: [-1.19313668e-08 -1.19313668e-08 -7.45058060e-09  0.00000000e+00\n",
      "  1.00224098e+00]\n",
      "Valor da função: -0.9999949780275379\n",
      "\n",
      "Iteração: 4\n",
      "Ponto atual: [-5.07244073e-09 -5.07244073e-09 -7.45058060e-09  0.00000000e+00\n",
      "  9.99997923e-01]\n",
      "Valor da função: -0.9999999999956845\n",
      "\n"
     ]
    }
   ],
   "source": [
    "import numpy as np\n",
    "from scipy.optimize import minimize\n",
    "\n",
    "def f(x):\n",
    "    return -np.exp(-x[0]**2 - x[1]**2 - 0.5*x[2]**2 - 0.1*x[3]**4 - (x[4]-1)**2)\n",
    "\n",
    "# x0 = [9,9,9,9,9]\n",
    "# x0 = [0,0,0,0,0.5]\n",
    "x0 = [1,1,1,1,0]\n",
    "# x0 = np.zeros(5)\n",
    "\n",
    "iteration_data = []\n",
    "\n",
    "def callback(xk):\n",
    "    iteration_data.append((len(iteration_data)+1, xk.copy(), f(xk)))\n",
    "\n",
    "method = 'BFGS'\n",
    "\n",
    "res = minimize(f, x0, method=method, callback=callback)\n",
    "\n",
    "for it, xk, fk in iteration_data:\n",
    "    print(f'Iteração: {it}')\n",
    "    print(f'Ponto atual: {xk}')\n",
    "    print(f'Valor da função: {fk}\\n')\n",
    "\n"
   ]
  },
  {
   "cell_type": "code",
   "execution_count": 19,
   "metadata": {},
   "outputs": [
    {
     "name": "stdout",
     "output_type": "stream",
     "text": [
      "Algoritmo utilizado: BFGS\n",
      "Ponto de mínimo: [-5.07244073e-09 -5.07244073e-09 -7.45058060e-09  0.00000000e+00\n",
      "  9.99997923e-01]\n",
      "Valor da função no mínimo: -0.9999999999956845\n",
      "Número de iterações: 4\n",
      "Número de avaliações da função: 30\n",
      "Sucesso da otimização: True\n",
      "Mensagem de saída: Optimization terminated successfully.\n"
     ]
    }
   ],
   "source": [
    "print('Algoritmo utilizado:', method)\n",
    "print('Ponto de mínimo:', res.x)\n",
    "print('Valor da função no mínimo:', res.fun)\n",
    "print('Número de iterações:', res.nit)\n",
    "print('Número de avaliações da função:', res.nfev)\n",
    "print('Sucesso da otimização:', res.success)\n",
    "print('Mensagem de saída:', res.message)"
   ]
  },
  {
   "cell_type": "markdown",
   "metadata": {},
   "source": [
    "# Testando valores"
   ]
  },
  {
   "cell_type": "code",
   "execution_count": 10,
   "metadata": {},
   "outputs": [
    {
     "data": {
      "text/plain": [
       "-1.0"
      ]
     },
     "execution_count": 10,
     "metadata": {},
     "output_type": "execute_result"
    }
   ],
   "source": [
    "f([0,0,0,0,1])"
   ]
  }
 ],
 "metadata": {
  "kernelspec": {
   "display_name": "base",
   "language": "python",
   "name": "python3"
  },
  "language_info": {
   "codemirror_mode": {
    "name": "ipython",
    "version": 3
   },
   "file_extension": ".py",
   "mimetype": "text/x-python",
   "name": "python",
   "nbconvert_exporter": "python",
   "pygments_lexer": "ipython3",
   "version": "3.7.6"
  }
 },
 "nbformat": 4,
 "nbformat_minor": 2
}
